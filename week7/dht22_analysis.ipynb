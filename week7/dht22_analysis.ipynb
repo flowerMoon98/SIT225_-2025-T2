{
 "cells": [
  {
   "cell_type": "code",
   "execution_count": 2,
   "id": "377a9c1f",
   "metadata": {},
   "outputs": [
    {
     "name": "stdout",
     "output_type": "stream",
     "text": [
      "Columns: ['timestamp', 'temperature', 'humidity']\n",
      "Shape: (170, 3)\n"
     ]
    },
    {
     "data": {
      "text/html": [
       "<div>\n",
       "<style scoped>\n",
       "    .dataframe tbody tr th:only-of-type {\n",
       "        vertical-align: middle;\n",
       "    }\n",
       "\n",
       "    .dataframe tbody tr th {\n",
       "        vertical-align: top;\n",
       "    }\n",
       "\n",
       "    .dataframe thead th {\n",
       "        text-align: right;\n",
       "    }\n",
       "</style>\n",
       "<table border=\"1\" class=\"dataframe\">\n",
       "  <thead>\n",
       "    <tr style=\"text-align: right;\">\n",
       "      <th></th>\n",
       "      <th>timestamp</th>\n",
       "      <th>temperature</th>\n",
       "      <th>humidity</th>\n",
       "    </tr>\n",
       "  </thead>\n",
       "  <tbody>\n",
       "    <tr>\n",
       "      <th>0</th>\n",
       "      <td>2025-08-11 16:56:47</td>\n",
       "      <td>23.700001</td>\n",
       "      <td>58.500000</td>\n",
       "    </tr>\n",
       "    <tr>\n",
       "      <th>1</th>\n",
       "      <td>2025-08-11 16:56:48</td>\n",
       "      <td>23.700001</td>\n",
       "      <td>58.000000</td>\n",
       "    </tr>\n",
       "    <tr>\n",
       "      <th>2</th>\n",
       "      <td>2025-08-11 16:56:58</td>\n",
       "      <td>23.700001</td>\n",
       "      <td>57.700001</td>\n",
       "    </tr>\n",
       "    <tr>\n",
       "      <th>3</th>\n",
       "      <td>2025-08-11 16:57:03</td>\n",
       "      <td>23.700001</td>\n",
       "      <td>60.099998</td>\n",
       "    </tr>\n",
       "    <tr>\n",
       "      <th>4</th>\n",
       "      <td>2025-08-11 16:57:08</td>\n",
       "      <td>23.700001</td>\n",
       "      <td>58.099998</td>\n",
       "    </tr>\n",
       "  </tbody>\n",
       "</table>\n",
       "</div>"
      ],
      "text/plain": [
       "             timestamp  temperature   humidity\n",
       "0  2025-08-11 16:56:47    23.700001  58.500000\n",
       "1  2025-08-11 16:56:48    23.700001  58.000000\n",
       "2  2025-08-11 16:56:58    23.700001  57.700001\n",
       "3  2025-08-11 16:57:03    23.700001  60.099998\n",
       "4  2025-08-11 16:57:08    23.700001  58.099998"
      ]
     },
     "execution_count": 2,
     "metadata": {},
     "output_type": "execute_result"
    }
   ],
   "source": [
    "# 📦 Libraries\n",
    "import pandas as pd\n",
    "import numpy as np\n",
    "import plotly.express as px\n",
    "from sklearn.linear_model import LinearRegression\n",
    "\n",
    "# 🗂️ Load CSV\n",
    "df = pd.read_csv(\"dht22_cloud_log.csv\")\n",
    "\n",
    "# 👀 Quick look\n",
    "print(\"Columns:\", df.columns.tolist())\n",
    "print(\"Shape:\", df.shape)\n",
    "df.head()"
   ]
  },
  {
   "cell_type": "code",
   "execution_count": 3,
   "id": "01d4578c",
   "metadata": {},
   "outputs": [
    {
     "name": "stdout",
     "output_type": "stream",
     "text": [
      "Equation: humidity = -2.6074 * temperature + 119.3904\n",
      "R^2: 0.4201\n"
     ]
    }
   ],
   "source": [
    "# 🎯 Features (X) and target (y)\n",
    "X = df[[\"temperature\"]].values   # independent variable\n",
    "y = df[\"humidity\"].values        # dependent variable\n",
    "\n",
    "# 🔨 Fit linear regression model\n",
    "model = LinearRegression().fit(X, y)\n",
    "\n",
    "# 📊 Coefficients\n",
    "slope = model.coef_[0]\n",
    "intercept = model.intercept_\n",
    "r2 = model.score(X, y)\n",
    "\n",
    "print(f\"Equation: humidity = {slope:.4f} * temperature + {intercept:.4f}\")\n",
    "print(f\"R^2: {r2:.4f}\")"
   ]
  },
  {
   "cell_type": "code",
   "execution_count": 4,
   "id": "3630568e",
   "metadata": {},
   "outputs": [
    {
     "name": "stdout",
     "output_type": "stream",
     "text": [
      "Min temp: 22.80, Max temp: 23.70\n"
     ]
    }
   ],
   "source": [
    "# 🌡️ min and max observed temperatures\n",
    "t_min, t_max = df[\"temperature\"].min(), df[\"temperature\"].max()\n",
    "print(f\"Min temp: {t_min:.2f}, Max temp: {t_max:.2f}\")\n",
    "\n",
    "# 🔮 100 equally spaced test temperatures\n",
    "temp_test = np.linspace(t_min, t_max, 100).reshape(-1,1)\n",
    "\n",
    "# 🤖 predict humidity for these temps\n",
    "humidity_pred = model.predict(temp_test)"
   ]
  },
  {
   "cell_type": "code",
   "execution_count": 5,
   "id": "63349034",
   "metadata": {},
   "outputs": [
    {
     "data": {
      "application/vnd.plotly.v1+json": {
       "config": {
        "plotlyServerURL": "https://plot.ly"
       },
       "data": [
        {
         "hovertemplate": "Temperature (°C)=%{x}<br>Humidity (%)=%{y}<extra></extra>",
         "legendgroup": "",
         "marker": {
          "color": "#636efa",
          "symbol": "circle"
         },
         "mode": "markers",
         "name": "",
         "orientation": "v",
         "showlegend": false,
         "type": "scatter",
         "x": {
          "bdata": "AAAAQDOzN0AAAABAM7M3QAAAAEAzszdAAAAAQDOzN0AAAABAM7M3QAAAAEAzszdAAAAAQDOzN0AAAACgmZk3QAAAAKCZmTdAAAAAQDOzN0AAAABAM7M3QAAAAKCZmTdAAAAAoJmZN0AAAACgmZk3QAAAAKCZmTdAAAAAoJmZN0AAAACgmZk3QAAAAKCZmTdAAAAAoJmZN0AAAAAAAIA3QAAAAAAAgDdAAAAAAACAN0AAAABgZmY3QAAAAGBmZjdAAAAAYGZmN0AAAABgZmY3QAAAAMDMTDdAAAAAwMxMN0AAAADAzEw3QAAAAMDMTDdAAAAAwMxMN0AAAABAMzM3QAAAAEAzMzdAAAAAQDMzN0AAAACgmRk3QAAAAKCZGTdAAAAAoJkZN0AAAACgmRk3QAAAAKCZGTdAAAAAoJkZN0AAAACgmRk3QAAAAKCZGTdAAAAAAAAAN0AAAAAAAAA3QAAAAKCZGTdAAAAAoJkZN0AAAAAAAAA3QAAAAAAAADdAAAAAAAAAN0AAAAAAAAA3QAAAAAAAADdAAAAAAAAAN0AAAAAAAAA3QAAAAAAAADdAAAAAYGbmNkAAAABgZuY2QAAAAAAAADdAAAAAAAAAN0AAAAAAAAA3QAAAAAAAADdAAAAAYGbmNkAAAABgZuY2QAAAAGBm5jZAAAAAYGbmNkAAAABgZuY2QAAAAGBm5jZAAAAAYGbmNkAAAABgZuY2QAAAAGBm5jZAAAAAYGbmNkAAAAAAAAA3QAAAAAAAADdAAAAAYGbmNkAAAABgZuY2QAAAAAAAADdAAAAAAAAAN0AAAAAAAAA3QAAAAAAAADdAAAAAAAAAN0AAAAAAAAA3QAAAAAAAADdAAAAAAAAAN0AAAACgmRk3QAAAAKCZGTdAAAAAoJkZN0AAAACgmRk3QAAAAKCZGTdAAAAAQDMzN0AAAABAMzM3QAAAAKCZGTdAAAAAoJkZN0AAAABAMzM3QAAAAEAzMzdAAAAAQDMzN0AAAABAMzM3QAAAAEAzMzdAAAAAQDMzN0AAAABAMzM3QAAAAEAzMzdAAAAAQDMzN0AAAABAMzM3QAAAAEAzMzdAAAAAQDMzN0AAAABAMzM3QAAAAEAzMzdAAAAAQDMzN0AAAABAMzM3QAAAAAAAADdAAAAAAAAAN0AAAAAAAAA3QAAAAAAAADdAAAAAAAAAN0AAAAAAAAA3QAAAAAAAADdAAAAAAAAAN0AAAAAAAAA3QAAAAAAAADdAAAAAYGbmNkAAAABgZuY2QAAAAAAAADdAAAAAAAAAN0AAAAAAAAA3QAAAAGBm5jZAAAAAYGbmNkAAAABgZuY2QAAAAGBm5jZAAAAAYGbmNkAAAABgZuY2QAAAAGBm5jZAAAAAYGbmNkAAAABgZuY2QAAAAGBm5jZAAAAAYGbmNkAAAABgZuY2QAAAAGBm5jZAAAAAYGbmNkAAAABgZuY2QAAAAGBm5jZAAAAAwMzMNkAAAADAzMw2QAAAAMDMzDZAAAAAwMzMNkAAAADAzMw2QAAAAMDMzDZAAAAAwMzMNkAAAADAzMw2QAAAAMDMzDZAAAAAwMzMNkAAAADAzMw2QAAAAMDMzDZAAAAAwMzMNkAAAADAzMw2QAAAAGBm5jZAAAAAYGbmNkAAAABgZuY2QAAAAMDMzDZAAAAAwMzMNkAAAABgZuY2QAAAAGBm5jZAAAAAYGbmNkAAAABgZuY2QAAAAGBm5jZAAAAAYGbmNkAAAABgZuY2QAAAAGBm5jZAAAAAAAAAN0AAAAAAAAA3QAAAAAAAADdAAAAAYGbmNkAAAABgZuY2QA==",
          "dtype": "f8"
         },
         "xaxis": "x",
         "y": {
          "bdata": "AAAAAABATUAAAAAAAABNQAAAAKCZ2UxAAAAAwMwMTkAAAADAzAxNQAAAAAAAwExAAAAAQDMzTUAAAABAMzNNQAAAAGBmJk1AAAAAYGYmTUAAAABAM/NMQAAAAEAz80xAAAAAAADATEAAAABAM/NMQAAAAKCZGU1AAAAAoJnZTEAAAABAM/NMQAAAAAAAwExAAAAAYGamTEAAAABgZqZMQAAAAKCZmUxAAAAAYGamTEAAAABgZqZMQAAAAEAzs0xAAAAAAADATEAAAADAzMxMQAAAAMDMzExAAAAAYGbmTEAAAABAM/NMQAAAAGBm5kxAAAAAQDPzTEAAAABAM/NMQAAAAGBm5kxAAAAAQDPzTEAAAABAM/NMQAAAAAAAAE1AAAAAQDPzTEAAAAAAAABNQAAAAMDMDE1AAAAAoJkZTUAAAADAzAxNQAAAAKCZGU1AAAAAoJkZTUAAAABgZiZNQAAAAGBmJk1AAAAAoJkZTUAAAACgmRlNQAAAAGBmJk1AAAAAAABATUAAAABAMzNNQAAAAAAAQE1AAAAAwMxMTUAAAACgmVlNQAAAAMDMTE1AAAAAwMxMTUAAAAAAAEBNQAAAAAAAQE1AAAAAwMxMTUAAAACgmVlNQAAAAAAAQE1AAAAAAABATUAAAADAzExNQAAAAKCZWU1AAAAAYGZmTUAAAABAM3NNQAAAAGBmZk1AAAAAwMyMTUAAAACgmZlNQAAAAMDMDE5AAAAAQDPzTUAAAABAM/NNQAAAAMDMzE1AAAAAwMzMTUAAAABgZiZOQAAAAGBmJk5AAAAAQDPzTUAAAADAzMxNQAAAAAAAQE5AAAAAAACATkAAAAAAAEBOQAAAAGBmZk5AAAAAYGbmTUAAAABgZuZNQAAAAGBmpk1AAAAAoJmZTUAAAADAzIxNQAAAAKCZmU1AAAAAoJmZTUAAAACgmdlNQAAAAKCZ2U1AAAAAAADATUAAAAAAAMBNQAAAAMDMzE1AAAAAYGbmTUAAAACgmRlOQAAAAMDMzE1AAAAAQDMzTkAAAADAzExOQAAAAGBm5k1AAAAAwMyMTUAAAABAM3NNQAAAAKCZWU1AAAAAoJmZTkAAAABAM/NNQAAAAKCZmU1AAAAAAACATUAAAABAM3NNQAAAAMDMjE1AAAAAAACATUAAAADAzIxNQAAAAAAAgE1AAAAAoJmZTUAAAABgZqZNQAAAAKCZmU1AAAAAYGamTUAAAAAAAMBNQAAAAKCZ2U1AAAAAoJnZTUAAAABAM7NNQAAAAEAzs01AAAAAYGamTUAAAACgmZlNQAAAAKCZmU1AAAAAwMyMTUAAAABgZuZNQAAAAKCZmU5AAAAAoJkZTkAAAABAM/NNQAAAAAAAAE5AAAAAwMxMTkAAAABAMzNOQAAAAEAz801AAAAAoJnZTUAAAABAM/NNQAAAAGBm5k1AAAAAwMzMTUAAAAAAAMBNQAAAAMDMzE1AAAAAwMzMTUAAAAAAAABOQAAAAEAzM05AAAAAYGYmTkAAAABAM3NOQAAAAKCZWU5AAAAAQDMzTkAAAAAAAIBOQAAAAKCZGU5AAAAAwMwMTkAAAABAM/NNQAAAAEAzM05AAAAAAABATkAAAADAzAxOQAAAAMDMDE5AAAAAQDMzTkAAAADAzAxOQAAAAMDMDE5AAAAAQDPzTUAAAABAM/NNQAAAAGBmJk5AAAAAQDMzTkAAAADAzExOQAAAAKCZWU5AAAAAAABATkAAAAAAAABOQAAAAMDMDE5AAAAAwMwMTkAAAACgmRlOQAAAAGBmJk5AAAAAYGYmTkAAAABAMzNOQA==",
          "dtype": "f8"
         },
         "yaxis": "y"
        },
        {
         "mode": "lines",
         "name": "Regression line",
         "type": "scatter",
         "x": {
          "bdata": "AAAAwMzMNkAxb2eIIM82QGLezlB00TZAk002GcjTNkDFvJ3hG9Y2QPYrBapv2DZAJ5tscsPaNkBYCtQ6F902QIl5OwNr3zZAuuiiy77hNkDrVwqUEuQ2QBzHcVxm5jZATjbZJLroNkB/pUDtDes2QLAUqLVh7TZA4YMPfrXvNkAS83ZGCfI2QENi3g5d9DZAdNFF17D2NkClQK2fBPk2QNevFGhY+zZACB98MKz9NkA5juP4//82QGr9SsFTAjdAm2yyiacEN0DM2xlS+wY3QP1KgRpPCTdAL7ro4qILN0BgKVCr9g03QJGYt3NKEDdAwgcfPJ4SN0DzdoYE8hQ3QCTm7cxFFzdAVVVVlZkZN0CGxLxd7Rs3QLgzJCZBHjdA6aKL7pQgN0AaEvO26CI3QEuBWn88JTdAfPDBR5AnN0CtXykQ5Ck3QN7OkNg3LDdAED74oIsuN0BBrV9p3zA3QHIcxzEzMzdAo4su+oY1N0DU+pXC2jc3QAVq/YouOjdANtlkU4I8N0BnSMwb1j43QJm3M+QpQTdAyiabrH1DN0D7lQJ10UU3QCwFaj0lSDdAXXTRBXlKN0CO4zjOzEw3QL9SoJYgTzdA8MEHX3RRN0AiMW8nyFM3QFOg1u8bVjdAhA8+uG9YN0C1fqWAw1o3QObtDEkXXTdAF110EWtfN0BIzNvZvmE3QHo7Q6ISZDdAq6qqamZmN0DcGRIzumg3QA2JefsNazdAPvjgw2FtN0BvZ0iMtW83QKDWr1QJcjdA0UUXHV10N0ADtX7lsHY3QDQk5q0EeTdAZZNNdlh7N0CWArU+rH03QMdxHAcAgDdA+OCDz1OCN0ApUOuXp4Q3QFq/UmD7hjdAjC66KE+JN0C9nSHxoos3QO4Mibn2jTdAH3zwgUqQN0BQ61dKnpI3QIFavxLylDdAsskm20WXN0DkOI6jmZk3QBWo9WvtmzdARhddNEGeN0B3hsT8lKA3QKj1K8XoojdA2WSTjTylN0AK1PpVkKc3QDtDYh7kqTdAbbLJ5jesN0CeITGvi643QM+QmHffsDdAAAAAQDOzN0A=",
          "dtype": "f8"
         },
         "y": {
          "bdata": "uKOoN5D4TUBUgo5/h/VNQPFgdMd+8k1AjT9aD3bvTUAoHkBXbexNQMX8JZ9k6U1AYdsL51vmTUD+ufEuU+NNQJqY13ZK4E1AN3e9vkHdTUDTVaMGOdpNQG80iU4w101ACxNvlifUTUCn8VTeHtFNQEPQOiYWzk1A4K4gbg3LTUB8jQa2BMhNQBls7P37xE1AtUrSRfPBTUBSKbiN6r5NQO0HntXhu01AieaDHdm4TUAmxWll0LVNQMKjT63Hsk1AXoI19b6vTUD7YBs9tqxNQJc/AYWtqU1AMh7nzKSmTUDP/MwUnKNNQGvbslyToE1ACLqYpIqdTUCkmH7sgZpNQEF3ZDR5l01A3VVKfHCUTUB5NDDEZ5FNQBUTFgxfjk1AsfH7U1aLTUBN0OGbTYhNQOqux+NEhU1Aho2tKzyCTUAjbJNzM39NQL9KebsqfE1AWilfAyJ5TUD3B0VLGXZNQJPmKpMQc01AMMUQ2wdwTUDMo/Yi/2xNQGiC3Gr2aU1ABWHCsu1mTUChP6j65GNNQDwejkLcYE1A2fxzitNdTUB121nSylpNQBK6PxrCV01ArpglYrlUTUBLdwuqsFFNQOdV8fGnTk1AhDTXOZ9LTUAfE72BlkhNQLvxosmNRU1AWNCIEYVCTUD0rm5ZfD9NQJCNVKFzPE1ALWw66Wo5TUDJSiAxYjZNQGQpBnlZM01AAQjswFAwTUCd5tEISC1NQDrFt1A/Kk1A1qOdmDYnTUBzgoPgLSRNQA9haSglIU1Aqz9PcBweTUBHHjW4ExtNQOP8GgALGE1Af9sASAIVTUAcuuaP+RFNQLiYzNfwDk1AVXeyH+gLTUDxVZhn3whNQI40fq/WBU1AKRNk980CTUDF8Uk/xf9MQGLQL4e8/ExA/q4Vz7P5TECajfsWq/ZMQDds4V6i80xA00rHppnwTEBuKa3ukO1MQAsIkzaI6kxAp+Z4fn/nTEBExV7GduRMQOCjRA5u4UxAfYIqVmXeTEAZYRCeXNtMQLU/9uVT2ExAUR7cLUvVTEDt/MF1QtJMQInbp705z0xAJrqNBTHMTEA=",
          "dtype": "f8"
         }
        }
       ],
       "layout": {
        "legend": {
         "tracegroupgap": 0
        },
        "template": {
         "data": {
          "bar": [
           {
            "error_x": {
             "color": "#2a3f5f"
            },
            "error_y": {
             "color": "#2a3f5f"
            },
            "marker": {
             "line": {
              "color": "#E5ECF6",
              "width": 0.5
             },
             "pattern": {
              "fillmode": "overlay",
              "size": 10,
              "solidity": 0.2
             }
            },
            "type": "bar"
           }
          ],
          "barpolar": [
           {
            "marker": {
             "line": {
              "color": "#E5ECF6",
              "width": 0.5
             },
             "pattern": {
              "fillmode": "overlay",
              "size": 10,
              "solidity": 0.2
             }
            },
            "type": "barpolar"
           }
          ],
          "carpet": [
           {
            "aaxis": {
             "endlinecolor": "#2a3f5f",
             "gridcolor": "white",
             "linecolor": "white",
             "minorgridcolor": "white",
             "startlinecolor": "#2a3f5f"
            },
            "baxis": {
             "endlinecolor": "#2a3f5f",
             "gridcolor": "white",
             "linecolor": "white",
             "minorgridcolor": "white",
             "startlinecolor": "#2a3f5f"
            },
            "type": "carpet"
           }
          ],
          "choropleth": [
           {
            "colorbar": {
             "outlinewidth": 0,
             "ticks": ""
            },
            "type": "choropleth"
           }
          ],
          "contour": [
           {
            "colorbar": {
             "outlinewidth": 0,
             "ticks": ""
            },
            "colorscale": [
             [
              0,
              "#0d0887"
             ],
             [
              0.1111111111111111,
              "#46039f"
             ],
             [
              0.2222222222222222,
              "#7201a8"
             ],
             [
              0.3333333333333333,
              "#9c179e"
             ],
             [
              0.4444444444444444,
              "#bd3786"
             ],
             [
              0.5555555555555556,
              "#d8576b"
             ],
             [
              0.6666666666666666,
              "#ed7953"
             ],
             [
              0.7777777777777778,
              "#fb9f3a"
             ],
             [
              0.8888888888888888,
              "#fdca26"
             ],
             [
              1,
              "#f0f921"
             ]
            ],
            "type": "contour"
           }
          ],
          "contourcarpet": [
           {
            "colorbar": {
             "outlinewidth": 0,
             "ticks": ""
            },
            "type": "contourcarpet"
           }
          ],
          "heatmap": [
           {
            "colorbar": {
             "outlinewidth": 0,
             "ticks": ""
            },
            "colorscale": [
             [
              0,
              "#0d0887"
             ],
             [
              0.1111111111111111,
              "#46039f"
             ],
             [
              0.2222222222222222,
              "#7201a8"
             ],
             [
              0.3333333333333333,
              "#9c179e"
             ],
             [
              0.4444444444444444,
              "#bd3786"
             ],
             [
              0.5555555555555556,
              "#d8576b"
             ],
             [
              0.6666666666666666,
              "#ed7953"
             ],
             [
              0.7777777777777778,
              "#fb9f3a"
             ],
             [
              0.8888888888888888,
              "#fdca26"
             ],
             [
              1,
              "#f0f921"
             ]
            ],
            "type": "heatmap"
           }
          ],
          "histogram": [
           {
            "marker": {
             "pattern": {
              "fillmode": "overlay",
              "size": 10,
              "solidity": 0.2
             }
            },
            "type": "histogram"
           }
          ],
          "histogram2d": [
           {
            "colorbar": {
             "outlinewidth": 0,
             "ticks": ""
            },
            "colorscale": [
             [
              0,
              "#0d0887"
             ],
             [
              0.1111111111111111,
              "#46039f"
             ],
             [
              0.2222222222222222,
              "#7201a8"
             ],
             [
              0.3333333333333333,
              "#9c179e"
             ],
             [
              0.4444444444444444,
              "#bd3786"
             ],
             [
              0.5555555555555556,
              "#d8576b"
             ],
             [
              0.6666666666666666,
              "#ed7953"
             ],
             [
              0.7777777777777778,
              "#fb9f3a"
             ],
             [
              0.8888888888888888,
              "#fdca26"
             ],
             [
              1,
              "#f0f921"
             ]
            ],
            "type": "histogram2d"
           }
          ],
          "histogram2dcontour": [
           {
            "colorbar": {
             "outlinewidth": 0,
             "ticks": ""
            },
            "colorscale": [
             [
              0,
              "#0d0887"
             ],
             [
              0.1111111111111111,
              "#46039f"
             ],
             [
              0.2222222222222222,
              "#7201a8"
             ],
             [
              0.3333333333333333,
              "#9c179e"
             ],
             [
              0.4444444444444444,
              "#bd3786"
             ],
             [
              0.5555555555555556,
              "#d8576b"
             ],
             [
              0.6666666666666666,
              "#ed7953"
             ],
             [
              0.7777777777777778,
              "#fb9f3a"
             ],
             [
              0.8888888888888888,
              "#fdca26"
             ],
             [
              1,
              "#f0f921"
             ]
            ],
            "type": "histogram2dcontour"
           }
          ],
          "mesh3d": [
           {
            "colorbar": {
             "outlinewidth": 0,
             "ticks": ""
            },
            "type": "mesh3d"
           }
          ],
          "parcoords": [
           {
            "line": {
             "colorbar": {
              "outlinewidth": 0,
              "ticks": ""
             }
            },
            "type": "parcoords"
           }
          ],
          "pie": [
           {
            "automargin": true,
            "type": "pie"
           }
          ],
          "scatter": [
           {
            "fillpattern": {
             "fillmode": "overlay",
             "size": 10,
             "solidity": 0.2
            },
            "type": "scatter"
           }
          ],
          "scatter3d": [
           {
            "line": {
             "colorbar": {
              "outlinewidth": 0,
              "ticks": ""
             }
            },
            "marker": {
             "colorbar": {
              "outlinewidth": 0,
              "ticks": ""
             }
            },
            "type": "scatter3d"
           }
          ],
          "scattercarpet": [
           {
            "marker": {
             "colorbar": {
              "outlinewidth": 0,
              "ticks": ""
             }
            },
            "type": "scattercarpet"
           }
          ],
          "scattergeo": [
           {
            "marker": {
             "colorbar": {
              "outlinewidth": 0,
              "ticks": ""
             }
            },
            "type": "scattergeo"
           }
          ],
          "scattergl": [
           {
            "marker": {
             "colorbar": {
              "outlinewidth": 0,
              "ticks": ""
             }
            },
            "type": "scattergl"
           }
          ],
          "scattermap": [
           {
            "marker": {
             "colorbar": {
              "outlinewidth": 0,
              "ticks": ""
             }
            },
            "type": "scattermap"
           }
          ],
          "scattermapbox": [
           {
            "marker": {
             "colorbar": {
              "outlinewidth": 0,
              "ticks": ""
             }
            },
            "type": "scattermapbox"
           }
          ],
          "scatterpolar": [
           {
            "marker": {
             "colorbar": {
              "outlinewidth": 0,
              "ticks": ""
             }
            },
            "type": "scatterpolar"
           }
          ],
          "scatterpolargl": [
           {
            "marker": {
             "colorbar": {
              "outlinewidth": 0,
              "ticks": ""
             }
            },
            "type": "scatterpolargl"
           }
          ],
          "scatterternary": [
           {
            "marker": {
             "colorbar": {
              "outlinewidth": 0,
              "ticks": ""
             }
            },
            "type": "scatterternary"
           }
          ],
          "surface": [
           {
            "colorbar": {
             "outlinewidth": 0,
             "ticks": ""
            },
            "colorscale": [
             [
              0,
              "#0d0887"
             ],
             [
              0.1111111111111111,
              "#46039f"
             ],
             [
              0.2222222222222222,
              "#7201a8"
             ],
             [
              0.3333333333333333,
              "#9c179e"
             ],
             [
              0.4444444444444444,
              "#bd3786"
             ],
             [
              0.5555555555555556,
              "#d8576b"
             ],
             [
              0.6666666666666666,
              "#ed7953"
             ],
             [
              0.7777777777777778,
              "#fb9f3a"
             ],
             [
              0.8888888888888888,
              "#fdca26"
             ],
             [
              1,
              "#f0f921"
             ]
            ],
            "type": "surface"
           }
          ],
          "table": [
           {
            "cells": {
             "fill": {
              "color": "#EBF0F8"
             },
             "line": {
              "color": "white"
             }
            },
            "header": {
             "fill": {
              "color": "#C8D4E3"
             },
             "line": {
              "color": "white"
             }
            },
            "type": "table"
           }
          ]
         },
         "layout": {
          "annotationdefaults": {
           "arrowcolor": "#2a3f5f",
           "arrowhead": 0,
           "arrowwidth": 1
          },
          "autotypenumbers": "strict",
          "coloraxis": {
           "colorbar": {
            "outlinewidth": 0,
            "ticks": ""
           }
          },
          "colorscale": {
           "diverging": [
            [
             0,
             "#8e0152"
            ],
            [
             0.1,
             "#c51b7d"
            ],
            [
             0.2,
             "#de77ae"
            ],
            [
             0.3,
             "#f1b6da"
            ],
            [
             0.4,
             "#fde0ef"
            ],
            [
             0.5,
             "#f7f7f7"
            ],
            [
             0.6,
             "#e6f5d0"
            ],
            [
             0.7,
             "#b8e186"
            ],
            [
             0.8,
             "#7fbc41"
            ],
            [
             0.9,
             "#4d9221"
            ],
            [
             1,
             "#276419"
            ]
           ],
           "sequential": [
            [
             0,
             "#0d0887"
            ],
            [
             0.1111111111111111,
             "#46039f"
            ],
            [
             0.2222222222222222,
             "#7201a8"
            ],
            [
             0.3333333333333333,
             "#9c179e"
            ],
            [
             0.4444444444444444,
             "#bd3786"
            ],
            [
             0.5555555555555556,
             "#d8576b"
            ],
            [
             0.6666666666666666,
             "#ed7953"
            ],
            [
             0.7777777777777778,
             "#fb9f3a"
            ],
            [
             0.8888888888888888,
             "#fdca26"
            ],
            [
             1,
             "#f0f921"
            ]
           ],
           "sequentialminus": [
            [
             0,
             "#0d0887"
            ],
            [
             0.1111111111111111,
             "#46039f"
            ],
            [
             0.2222222222222222,
             "#7201a8"
            ],
            [
             0.3333333333333333,
             "#9c179e"
            ],
            [
             0.4444444444444444,
             "#bd3786"
            ],
            [
             0.5555555555555556,
             "#d8576b"
            ],
            [
             0.6666666666666666,
             "#ed7953"
            ],
            [
             0.7777777777777778,
             "#fb9f3a"
            ],
            [
             0.8888888888888888,
             "#fdca26"
            ],
            [
             1,
             "#f0f921"
            ]
           ]
          },
          "colorway": [
           "#636efa",
           "#EF553B",
           "#00cc96",
           "#ab63fa",
           "#FFA15A",
           "#19d3f3",
           "#FF6692",
           "#B6E880",
           "#FF97FF",
           "#FECB52"
          ],
          "font": {
           "color": "#2a3f5f"
          },
          "geo": {
           "bgcolor": "white",
           "lakecolor": "white",
           "landcolor": "#E5ECF6",
           "showlakes": true,
           "showland": true,
           "subunitcolor": "white"
          },
          "hoverlabel": {
           "align": "left"
          },
          "hovermode": "closest",
          "mapbox": {
           "style": "light"
          },
          "paper_bgcolor": "white",
          "plot_bgcolor": "#E5ECF6",
          "polar": {
           "angularaxis": {
            "gridcolor": "white",
            "linecolor": "white",
            "ticks": ""
           },
           "bgcolor": "#E5ECF6",
           "radialaxis": {
            "gridcolor": "white",
            "linecolor": "white",
            "ticks": ""
           }
          },
          "scene": {
           "xaxis": {
            "backgroundcolor": "#E5ECF6",
            "gridcolor": "white",
            "gridwidth": 2,
            "linecolor": "white",
            "showbackground": true,
            "ticks": "",
            "zerolinecolor": "white"
           },
           "yaxis": {
            "backgroundcolor": "#E5ECF6",
            "gridcolor": "white",
            "gridwidth": 2,
            "linecolor": "white",
            "showbackground": true,
            "ticks": "",
            "zerolinecolor": "white"
           },
           "zaxis": {
            "backgroundcolor": "#E5ECF6",
            "gridcolor": "white",
            "gridwidth": 2,
            "linecolor": "white",
            "showbackground": true,
            "ticks": "",
            "zerolinecolor": "white"
           }
          },
          "shapedefaults": {
           "line": {
            "color": "#2a3f5f"
           }
          },
          "ternary": {
           "aaxis": {
            "gridcolor": "white",
            "linecolor": "white",
            "ticks": ""
           },
           "baxis": {
            "gridcolor": "white",
            "linecolor": "white",
            "ticks": ""
           },
           "bgcolor": "#E5ECF6",
           "caxis": {
            "gridcolor": "white",
            "linecolor": "white",
            "ticks": ""
           }
          },
          "title": {
           "x": 0.05
          },
          "xaxis": {
           "automargin": true,
           "gridcolor": "white",
           "linecolor": "white",
           "ticks": "",
           "title": {
            "standoff": 15
           },
           "zerolinecolor": "white",
           "zerolinewidth": 2
          },
          "yaxis": {
           "automargin": true,
           "gridcolor": "white",
           "linecolor": "white",
           "ticks": "",
           "title": {
            "standoff": 15
           },
           "zerolinecolor": "white",
           "zerolinewidth": 2
          }
         }
        },
        "title": {
         "text": "Temperature vs Humidity (DHT22 data)"
        },
        "xaxis": {
         "anchor": "y",
         "domain": [
          0,
          1
         ],
         "title": {
          "text": "Temperature (°C)"
         }
        },
        "yaxis": {
         "anchor": "x",
         "domain": [
          0,
          1
         ],
         "title": {
          "text": "Humidity (%)"
         }
        }
       }
      }
     },
     "metadata": {},
     "output_type": "display_data"
    }
   ],
   "source": [
    "fig = px.scatter(df, x=\"temperature\", y=\"humidity\",\n",
    "                 title=\"Temperature vs Humidity (DHT22 data)\",\n",
    "                 labels={\"temperature\":\"Temperature (°C)\", \"humidity\":\"Humidity (%)\"})\n",
    "\n",
    "# add regression line\n",
    "fig.add_scatter(x=temp_test.ravel(), y=humidity_pred, mode=\"lines\", name=\"Regression line\")\n",
    "\n",
    "fig.show()"
   ]
  },
  {
   "cell_type": "code",
   "execution_count": 6,
   "id": "18b4e687",
   "metadata": {},
   "outputs": [
    {
     "name": "stdout",
     "output_type": "stream",
     "text": [
      "Before: (170, 3) After filtering: (145, 3)\n",
      "Filtered Equation: humidity = -2.9894*temperature + 128.1277\n",
      "Filtered R^2: 0.3830\n"
     ]
    },
    {
     "data": {
      "application/vnd.plotly.v1+json": {
       "config": {
        "plotlyServerURL": "https://plot.ly"
       },
       "data": [
        {
         "hovertemplate": "Temperature (°C)=%{x}<br>Humidity (%)=%{y}<extra></extra>",
         "legendgroup": "",
         "marker": {
          "color": "#636efa",
          "symbol": "circle"
         },
         "mode": "markers",
         "name": "",
         "orientation": "v",
         "showlegend": false,
         "type": "scatter",
         "x": {
          "bdata": "AAAAoJmZN0AAAACgmZk3QAAAAKCZmTdAAAAAoJmZN0AAAACgmZk3QAAAAKCZmTdAAAAAoJmZN0AAAACgmZk3QAAAAKCZmTdAAAAAoJmZN0AAAAAAAIA3QAAAAAAAgDdAAAAAAACAN0AAAABgZmY3QAAAAGBmZjdAAAAAYGZmN0AAAABgZmY3QAAAAMDMTDdAAAAAwMxMN0AAAADAzEw3QAAAAMDMTDdAAAAAwMxMN0AAAABAMzM3QAAAAEAzMzdAAAAAQDMzN0AAAACgmRk3QAAAAKCZGTdAAAAAoJkZN0AAAACgmRk3QAAAAKCZGTdAAAAAoJkZN0AAAACgmRk3QAAAAKCZGTdAAAAAAAAAN0AAAAAAAAA3QAAAAKCZGTdAAAAAoJkZN0AAAAAAAAA3QAAAAAAAADdAAAAAAAAAN0AAAAAAAAA3QAAAAAAAADdAAAAAAAAAN0AAAAAAAAA3QAAAAAAAADdAAAAAYGbmNkAAAABgZuY2QAAAAAAAADdAAAAAAAAAN0AAAAAAAAA3QAAAAAAAADdAAAAAYGbmNkAAAABgZuY2QAAAAGBm5jZAAAAAYGbmNkAAAABgZuY2QAAAAGBm5jZAAAAAYGbmNkAAAABgZuY2QAAAAGBm5jZAAAAAYGbmNkAAAAAAAAA3QAAAAAAAADdAAAAAYGbmNkAAAABgZuY2QAAAAAAAADdAAAAAAAAAN0AAAAAAAAA3QAAAAAAAADdAAAAAAAAAN0AAAAAAAAA3QAAAAAAAADdAAAAAAAAAN0AAAACgmRk3QAAAAKCZGTdAAAAAoJkZN0AAAACgmRk3QAAAAKCZGTdAAAAAQDMzN0AAAABAMzM3QAAAAKCZGTdAAAAAoJkZN0AAAABAMzM3QAAAAEAzMzdAAAAAQDMzN0AAAABAMzM3QAAAAEAzMzdAAAAAQDMzN0AAAABAMzM3QAAAAEAzMzdAAAAAQDMzN0AAAABAMzM3QAAAAEAzMzdAAAAAQDMzN0AAAABAMzM3QAAAAEAzMzdAAAAAQDMzN0AAAABAMzM3QAAAAAAAADdAAAAAAAAAN0AAAAAAAAA3QAAAAAAAADdAAAAAAAAAN0AAAAAAAAA3QAAAAAAAADdAAAAAAAAAN0AAAAAAAAA3QAAAAAAAADdAAAAAYGbmNkAAAABgZuY2QAAAAAAAADdAAAAAAAAAN0AAAAAAAAA3QAAAAGBm5jZAAAAAYGbmNkAAAABgZuY2QAAAAGBm5jZAAAAAYGbmNkAAAABgZuY2QAAAAGBm5jZAAAAAYGbmNkAAAABgZuY2QAAAAGBm5jZAAAAAYGbmNkAAAABgZuY2QAAAAGBm5jZAAAAAYGbmNkAAAABgZuY2QAAAAGBm5jZAAAAAYGbmNkAAAABgZuY2QAAAAGBm5jZAAAAAYGbmNkAAAABgZuY2QAAAAGBm5jZAAAAAYGbmNkAAAABgZuY2QAAAAGBm5jZAAAAAYGbmNkAAAABgZuY2QAAAAAAAADdAAAAAAAAAN0AAAAAAAAA3QAAAAGBm5jZAAAAAYGbmNkA=",
          "dtype": "f8"
         },
         "xaxis": "x",
         "y": {
          "bdata": "AAAAQDMzTUAAAABgZiZNQAAAAEAz80xAAAAAAADATEAAAABAM/NMQAAAAKCZGU1AAAAAoJnZTEAAAABAM/NMQAAAAAAAwExAAAAAYGamTEAAAABgZqZMQAAAAKCZmUxAAAAAYGamTEAAAABgZqZMQAAAAEAzs0xAAAAAAADATEAAAADAzMxMQAAAAMDMzExAAAAAYGbmTEAAAABAM/NMQAAAAGBm5kxAAAAAQDPzTEAAAABAM/NMQAAAAGBm5kxAAAAAQDPzTEAAAABAM/NMQAAAAAAAAE1AAAAAQDPzTEAAAAAAAABNQAAAAMDMDE1AAAAAoJkZTUAAAADAzAxNQAAAAKCZGU1AAAAAoJkZTUAAAABgZiZNQAAAAGBmJk1AAAAAoJkZTUAAAACgmRlNQAAAAGBmJk1AAAAAAABATUAAAABAMzNNQAAAAAAAQE1AAAAAwMxMTUAAAACgmVlNQAAAAMDMTE1AAAAAwMxMTUAAAAAAAEBNQAAAAAAAQE1AAAAAwMxMTUAAAACgmVlNQAAAAAAAQE1AAAAAAABATUAAAADAzExNQAAAAKCZWU1AAAAAYGZmTUAAAABAM3NNQAAAAGBmZk1AAAAAwMyMTUAAAACgmZlNQAAAAMDMDE5AAAAAQDPzTUAAAABAM/NNQAAAAMDMzE1AAAAAwMzMTUAAAABgZiZOQAAAAGBmJk5AAAAAQDPzTUAAAADAzMxNQAAAAAAAQE5AAAAAAACATkAAAAAAAEBOQAAAAGBmZk5AAAAAYGbmTUAAAABgZuZNQAAAAGBmpk1AAAAAoJmZTUAAAADAzIxNQAAAAKCZmU1AAAAAoJmZTUAAAACgmdlNQAAAAKCZ2U1AAAAAAADATUAAAAAAAMBNQAAAAMDMzE1AAAAAYGbmTUAAAACgmRlOQAAAAMDMzE1AAAAAQDMzTkAAAADAzExOQAAAAGBm5k1AAAAAwMyMTUAAAABAM3NNQAAAAKCZWU1AAAAAoJmZTkAAAABAM/NNQAAAAKCZmU1AAAAAAACATUAAAABAM3NNQAAAAMDMjE1AAAAAAACATUAAAADAzIxNQAAAAAAAgE1AAAAAoJmZTUAAAABgZqZNQAAAAKCZmU1AAAAAYGamTUAAAAAAAMBNQAAAAKCZ2U1AAAAAoJnZTUAAAABAM7NNQAAAAEAzs01AAAAAYGamTUAAAACgmZlNQAAAAKCZmU1AAAAAwMyMTUAAAABgZuZNQAAAAKCZmU5AAAAAoJkZTkAAAABAM/NNQAAAAAAAAE5AAAAAwMxMTkAAAABAMzNOQAAAAEAz801AAAAAoJnZTUAAAABAM/NNQAAAAGBm5k1AAAAAwMzMTUAAAAAAAMBNQAAAAMDMzE1AAAAAwMwMTkAAAABAMzNOQAAAAMDMDE5AAAAAQDPzTUAAAABgZiZOQAAAAEAzM05AAAAAwMxMTkAAAACgmVlOQAAAAAAAQE5AAAAAAAAATkAAAADAzAxOQAAAAMDMDE5AAAAAoJkZTkAAAABgZiZOQAAAAGBmJk5AAAAAQDMzTkA=",
          "dtype": "f8"
         },
         "yaxis": "y"
        },
        {
         "mode": "lines",
         "name": "Regression line (filtered)",
         "type": "scatter",
         "x": {
          "bdata": "AAAAYGbmNkAvuujCNeg2QF100SUF6jZAjC66iNTrNkC66KLro+02QOmii05z7zZAF110sULxNkBGF10UEvM2QHTRRXfh9DZAo4su2rD2NkDRRRc9gPg2QAAAAKBP+jZAL7roAh/8NkBddNFl7v02QIwuusi9/zZAuuiiK40BN0DpoouOXAM3QBdddPErBTdARhddVPsGN0B00UW3ygg3QKOLLhqaCjdA0UUXfWkMN0AAAADgOA43QC+66EIIEDdAXXTRpdcRN0CMLroIpxM3QLroomt2FTdA6aKLzkUXN0AXXXQxFRk3QEYXXZTkGjdAdNFF97McN0Cjiy5agx43QNFFF71SIDdAAAAAICIiN0AvuuiC8SM3QF100eXAJTdAjC66SJAnN0C66KKrXyk3QOmiiw4vKzdAF110cf4sN0BGF13UzS43QHTRRTedMDdAo4summwyN0DRRRf9OzQ3QAAAAGALNjdAL7rowto3N0BddNElqjk3QIwuuoh5OzdAuuii60g9N0DpootOGD83QBdddLHnQDdARhddFLdCN0B00UV3hkQ3QKOLLtpVRjdA0UUXPSVIN0AAAACg9Ek3QC+66ALESzdAXXTRZZNNN0CMLrrIYk83QLrooisyUTdA6aKLjgFTN0AXXXTx0FQ3QEYXXVSgVjdAdNFFt29YN0Cjiy4aP1o3QNFFF30OXDdAAAAA4N1dN0AvuuhCrV83QF100aV8YTdAjC66CExjN0C66KJrG2U3QOmii87qZjdAF110MbpoN0BGF12UiWo3QHTRRfdYbDdAo4suWihuN0DRRRe99283QAAAACDHcTdAL7rogpZzN0BddNHlZXU3QIwuukg1dzdAuuiiqwR5N0DpoosO1Ho3QBdddHGjfDdARhdd1HJ+N0B00UU3QoA3QKOLLpoRgjdA0UUX/eCDN0AAAABgsIU3QC+66MJ/hzdAXXTRJU+JN0CMLrqIHos3QLroouvtjDdA6aKLTr2ON0AXXXSxjJA3QEYXXRRckjdAdNFFdyuUN0Cjiy7a+pU3QNFFFz3KlzdAAAAAoJmZN0A=",
          "dtype": "f8"
         },
         "y": {
          "bdata": "VK6boujVTUDuzr4ENNNNQIzv4WZ/0E1AKBAFycrNTUDEMCgrFstNQGBRS41hyE1A/HFu76zFTUCYkpFR+MJNQDSztLNDwE1A0NPXFY+9TUBu9Pp32rpNQAgVHtoluE1ApDVBPHG1TUBAVmSevLJNQNx2hwAIsE1AepeqYlOtTUAUuM3EnqpNQLLY8Cbqp01ATPkTiTWlTUDqGTfrgKJNQIY6Wk3Mn01AIlt9rxedTUC+e6ARY5pNQFicw3Oul01A9rzm1fmUTUCS3Qk4RZJNQC7+LJqQj01Ayh5Q/NuMTUBmP3NeJ4pNQAJglsByh01AnoC5Ir6ETUA6odyECYJNQNbB/+ZUf01AcuIiSaB8TUAOA0ar63lNQKojaQ03d01ARkSMb4J0TUDiZK/RzXFNQH6F0jMZb01AHKb1lWRsTUC2xhj4r2lNQFTnO1r7Zk1A7gdfvEZkTUCMKIIekmFNQChJpYDdXk1AwmnI4ihcTUBgiutEdFlNQPqqDqe/Vk1AmMsxCQtUTUA07FRrVlFNQNAMeM2hTk1AbC2bL+1LTUAITr6ROElNQKRu4fODRk1AQI8EVs9DTUDcrye4GkFNQHjQShpmPk1AFPFtfLE7TUCwEZHe/DhNQEwytEBINk1A6FLXopMzTUCGc/oE3zBNQCCUHWcqLk1AvrRAyXUrTUBY1WMrwShNQPb1ho0MJk1Akhaq71cjTUAsN81RoyBNQMpX8LPuHU1AZHgTFjobTUACmTZ4hRhNQJ65WdrQFU1AOtp8PBwTTUDW+p+eZxBNQHIbwwCzDU1ADjzmYv4KTUCqXAnFSQhNQEZ9LCeVBU1A4p1PieACTUB+vnLrKwBNQBrflU13/UxAtv+4r8L6TEBSINwRDvhMQO5A/3NZ9UxAimEi1qTyTEAogkU48O9MQMKiaJo77UxAYMOL/IbqTED6465e0udMQJYE0sAd5UxANCX1ImniTEDORRiFtN9MQGxmO+f/3ExABodeSUvaTECkp4GrltdMQEDIpA3i1ExA3OjHby3STEB4CevReM9MQBQqDjTEzExAsEoxlg/KTEA=",
          "dtype": "f8"
         }
        }
       ],
       "layout": {
        "legend": {
         "tracegroupgap": 0
        },
        "template": {
         "data": {
          "bar": [
           {
            "error_x": {
             "color": "#2a3f5f"
            },
            "error_y": {
             "color": "#2a3f5f"
            },
            "marker": {
             "line": {
              "color": "#E5ECF6",
              "width": 0.5
             },
             "pattern": {
              "fillmode": "overlay",
              "size": 10,
              "solidity": 0.2
             }
            },
            "type": "bar"
           }
          ],
          "barpolar": [
           {
            "marker": {
             "line": {
              "color": "#E5ECF6",
              "width": 0.5
             },
             "pattern": {
              "fillmode": "overlay",
              "size": 10,
              "solidity": 0.2
             }
            },
            "type": "barpolar"
           }
          ],
          "carpet": [
           {
            "aaxis": {
             "endlinecolor": "#2a3f5f",
             "gridcolor": "white",
             "linecolor": "white",
             "minorgridcolor": "white",
             "startlinecolor": "#2a3f5f"
            },
            "baxis": {
             "endlinecolor": "#2a3f5f",
             "gridcolor": "white",
             "linecolor": "white",
             "minorgridcolor": "white",
             "startlinecolor": "#2a3f5f"
            },
            "type": "carpet"
           }
          ],
          "choropleth": [
           {
            "colorbar": {
             "outlinewidth": 0,
             "ticks": ""
            },
            "type": "choropleth"
           }
          ],
          "contour": [
           {
            "colorbar": {
             "outlinewidth": 0,
             "ticks": ""
            },
            "colorscale": [
             [
              0,
              "#0d0887"
             ],
             [
              0.1111111111111111,
              "#46039f"
             ],
             [
              0.2222222222222222,
              "#7201a8"
             ],
             [
              0.3333333333333333,
              "#9c179e"
             ],
             [
              0.4444444444444444,
              "#bd3786"
             ],
             [
              0.5555555555555556,
              "#d8576b"
             ],
             [
              0.6666666666666666,
              "#ed7953"
             ],
             [
              0.7777777777777778,
              "#fb9f3a"
             ],
             [
              0.8888888888888888,
              "#fdca26"
             ],
             [
              1,
              "#f0f921"
             ]
            ],
            "type": "contour"
           }
          ],
          "contourcarpet": [
           {
            "colorbar": {
             "outlinewidth": 0,
             "ticks": ""
            },
            "type": "contourcarpet"
           }
          ],
          "heatmap": [
           {
            "colorbar": {
             "outlinewidth": 0,
             "ticks": ""
            },
            "colorscale": [
             [
              0,
              "#0d0887"
             ],
             [
              0.1111111111111111,
              "#46039f"
             ],
             [
              0.2222222222222222,
              "#7201a8"
             ],
             [
              0.3333333333333333,
              "#9c179e"
             ],
             [
              0.4444444444444444,
              "#bd3786"
             ],
             [
              0.5555555555555556,
              "#d8576b"
             ],
             [
              0.6666666666666666,
              "#ed7953"
             ],
             [
              0.7777777777777778,
              "#fb9f3a"
             ],
             [
              0.8888888888888888,
              "#fdca26"
             ],
             [
              1,
              "#f0f921"
             ]
            ],
            "type": "heatmap"
           }
          ],
          "histogram": [
           {
            "marker": {
             "pattern": {
              "fillmode": "overlay",
              "size": 10,
              "solidity": 0.2
             }
            },
            "type": "histogram"
           }
          ],
          "histogram2d": [
           {
            "colorbar": {
             "outlinewidth": 0,
             "ticks": ""
            },
            "colorscale": [
             [
              0,
              "#0d0887"
             ],
             [
              0.1111111111111111,
              "#46039f"
             ],
             [
              0.2222222222222222,
              "#7201a8"
             ],
             [
              0.3333333333333333,
              "#9c179e"
             ],
             [
              0.4444444444444444,
              "#bd3786"
             ],
             [
              0.5555555555555556,
              "#d8576b"
             ],
             [
              0.6666666666666666,
              "#ed7953"
             ],
             [
              0.7777777777777778,
              "#fb9f3a"
             ],
             [
              0.8888888888888888,
              "#fdca26"
             ],
             [
              1,
              "#f0f921"
             ]
            ],
            "type": "histogram2d"
           }
          ],
          "histogram2dcontour": [
           {
            "colorbar": {
             "outlinewidth": 0,
             "ticks": ""
            },
            "colorscale": [
             [
              0,
              "#0d0887"
             ],
             [
              0.1111111111111111,
              "#46039f"
             ],
             [
              0.2222222222222222,
              "#7201a8"
             ],
             [
              0.3333333333333333,
              "#9c179e"
             ],
             [
              0.4444444444444444,
              "#bd3786"
             ],
             [
              0.5555555555555556,
              "#d8576b"
             ],
             [
              0.6666666666666666,
              "#ed7953"
             ],
             [
              0.7777777777777778,
              "#fb9f3a"
             ],
             [
              0.8888888888888888,
              "#fdca26"
             ],
             [
              1,
              "#f0f921"
             ]
            ],
            "type": "histogram2dcontour"
           }
          ],
          "mesh3d": [
           {
            "colorbar": {
             "outlinewidth": 0,
             "ticks": ""
            },
            "type": "mesh3d"
           }
          ],
          "parcoords": [
           {
            "line": {
             "colorbar": {
              "outlinewidth": 0,
              "ticks": ""
             }
            },
            "type": "parcoords"
           }
          ],
          "pie": [
           {
            "automargin": true,
            "type": "pie"
           }
          ],
          "scatter": [
           {
            "fillpattern": {
             "fillmode": "overlay",
             "size": 10,
             "solidity": 0.2
            },
            "type": "scatter"
           }
          ],
          "scatter3d": [
           {
            "line": {
             "colorbar": {
              "outlinewidth": 0,
              "ticks": ""
             }
            },
            "marker": {
             "colorbar": {
              "outlinewidth": 0,
              "ticks": ""
             }
            },
            "type": "scatter3d"
           }
          ],
          "scattercarpet": [
           {
            "marker": {
             "colorbar": {
              "outlinewidth": 0,
              "ticks": ""
             }
            },
            "type": "scattercarpet"
           }
          ],
          "scattergeo": [
           {
            "marker": {
             "colorbar": {
              "outlinewidth": 0,
              "ticks": ""
             }
            },
            "type": "scattergeo"
           }
          ],
          "scattergl": [
           {
            "marker": {
             "colorbar": {
              "outlinewidth": 0,
              "ticks": ""
             }
            },
            "type": "scattergl"
           }
          ],
          "scattermap": [
           {
            "marker": {
             "colorbar": {
              "outlinewidth": 0,
              "ticks": ""
             }
            },
            "type": "scattermap"
           }
          ],
          "scattermapbox": [
           {
            "marker": {
             "colorbar": {
              "outlinewidth": 0,
              "ticks": ""
             }
            },
            "type": "scattermapbox"
           }
          ],
          "scatterpolar": [
           {
            "marker": {
             "colorbar": {
              "outlinewidth": 0,
              "ticks": ""
             }
            },
            "type": "scatterpolar"
           }
          ],
          "scatterpolargl": [
           {
            "marker": {
             "colorbar": {
              "outlinewidth": 0,
              "ticks": ""
             }
            },
            "type": "scatterpolargl"
           }
          ],
          "scatterternary": [
           {
            "marker": {
             "colorbar": {
              "outlinewidth": 0,
              "ticks": ""
             }
            },
            "type": "scatterternary"
           }
          ],
          "surface": [
           {
            "colorbar": {
             "outlinewidth": 0,
             "ticks": ""
            },
            "colorscale": [
             [
              0,
              "#0d0887"
             ],
             [
              0.1111111111111111,
              "#46039f"
             ],
             [
              0.2222222222222222,
              "#7201a8"
             ],
             [
              0.3333333333333333,
              "#9c179e"
             ],
             [
              0.4444444444444444,
              "#bd3786"
             ],
             [
              0.5555555555555556,
              "#d8576b"
             ],
             [
              0.6666666666666666,
              "#ed7953"
             ],
             [
              0.7777777777777778,
              "#fb9f3a"
             ],
             [
              0.8888888888888888,
              "#fdca26"
             ],
             [
              1,
              "#f0f921"
             ]
            ],
            "type": "surface"
           }
          ],
          "table": [
           {
            "cells": {
             "fill": {
              "color": "#EBF0F8"
             },
             "line": {
              "color": "white"
             }
            },
            "header": {
             "fill": {
              "color": "#C8D4E3"
             },
             "line": {
              "color": "white"
             }
            },
            "type": "table"
           }
          ]
         },
         "layout": {
          "annotationdefaults": {
           "arrowcolor": "#2a3f5f",
           "arrowhead": 0,
           "arrowwidth": 1
          },
          "autotypenumbers": "strict",
          "coloraxis": {
           "colorbar": {
            "outlinewidth": 0,
            "ticks": ""
           }
          },
          "colorscale": {
           "diverging": [
            [
             0,
             "#8e0152"
            ],
            [
             0.1,
             "#c51b7d"
            ],
            [
             0.2,
             "#de77ae"
            ],
            [
             0.3,
             "#f1b6da"
            ],
            [
             0.4,
             "#fde0ef"
            ],
            [
             0.5,
             "#f7f7f7"
            ],
            [
             0.6,
             "#e6f5d0"
            ],
            [
             0.7,
             "#b8e186"
            ],
            [
             0.8,
             "#7fbc41"
            ],
            [
             0.9,
             "#4d9221"
            ],
            [
             1,
             "#276419"
            ]
           ],
           "sequential": [
            [
             0,
             "#0d0887"
            ],
            [
             0.1111111111111111,
             "#46039f"
            ],
            [
             0.2222222222222222,
             "#7201a8"
            ],
            [
             0.3333333333333333,
             "#9c179e"
            ],
            [
             0.4444444444444444,
             "#bd3786"
            ],
            [
             0.5555555555555556,
             "#d8576b"
            ],
            [
             0.6666666666666666,
             "#ed7953"
            ],
            [
             0.7777777777777778,
             "#fb9f3a"
            ],
            [
             0.8888888888888888,
             "#fdca26"
            ],
            [
             1,
             "#f0f921"
            ]
           ],
           "sequentialminus": [
            [
             0,
             "#0d0887"
            ],
            [
             0.1111111111111111,
             "#46039f"
            ],
            [
             0.2222222222222222,
             "#7201a8"
            ],
            [
             0.3333333333333333,
             "#9c179e"
            ],
            [
             0.4444444444444444,
             "#bd3786"
            ],
            [
             0.5555555555555556,
             "#d8576b"
            ],
            [
             0.6666666666666666,
             "#ed7953"
            ],
            [
             0.7777777777777778,
             "#fb9f3a"
            ],
            [
             0.8888888888888888,
             "#fdca26"
            ],
            [
             1,
             "#f0f921"
            ]
           ]
          },
          "colorway": [
           "#636efa",
           "#EF553B",
           "#00cc96",
           "#ab63fa",
           "#FFA15A",
           "#19d3f3",
           "#FF6692",
           "#B6E880",
           "#FF97FF",
           "#FECB52"
          ],
          "font": {
           "color": "#2a3f5f"
          },
          "geo": {
           "bgcolor": "white",
           "lakecolor": "white",
           "landcolor": "#E5ECF6",
           "showlakes": true,
           "showland": true,
           "subunitcolor": "white"
          },
          "hoverlabel": {
           "align": "left"
          },
          "hovermode": "closest",
          "mapbox": {
           "style": "light"
          },
          "paper_bgcolor": "white",
          "plot_bgcolor": "#E5ECF6",
          "polar": {
           "angularaxis": {
            "gridcolor": "white",
            "linecolor": "white",
            "ticks": ""
           },
           "bgcolor": "#E5ECF6",
           "radialaxis": {
            "gridcolor": "white",
            "linecolor": "white",
            "ticks": ""
           }
          },
          "scene": {
           "xaxis": {
            "backgroundcolor": "#E5ECF6",
            "gridcolor": "white",
            "gridwidth": 2,
            "linecolor": "white",
            "showbackground": true,
            "ticks": "",
            "zerolinecolor": "white"
           },
           "yaxis": {
            "backgroundcolor": "#E5ECF6",
            "gridcolor": "white",
            "gridwidth": 2,
            "linecolor": "white",
            "showbackground": true,
            "ticks": "",
            "zerolinecolor": "white"
           },
           "zaxis": {
            "backgroundcolor": "#E5ECF6",
            "gridcolor": "white",
            "gridwidth": 2,
            "linecolor": "white",
            "showbackground": true,
            "ticks": "",
            "zerolinecolor": "white"
           }
          },
          "shapedefaults": {
           "line": {
            "color": "#2a3f5f"
           }
          },
          "ternary": {
           "aaxis": {
            "gridcolor": "white",
            "linecolor": "white",
            "ticks": ""
           },
           "baxis": {
            "gridcolor": "white",
            "linecolor": "white",
            "ticks": ""
           },
           "bgcolor": "#E5ECF6",
           "caxis": {
            "gridcolor": "white",
            "linecolor": "white",
            "ticks": ""
           }
          },
          "title": {
           "x": 0.05
          },
          "xaxis": {
           "automargin": true,
           "gridcolor": "white",
           "linecolor": "white",
           "ticks": "",
           "title": {
            "standoff": 15
           },
           "zerolinecolor": "white",
           "zerolinewidth": 2
          },
          "yaxis": {
           "automargin": true,
           "gridcolor": "white",
           "linecolor": "white",
           "ticks": "",
           "title": {
            "standoff": 15
           },
           "zerolinecolor": "white",
           "zerolinewidth": 2
          }
         }
        },
        "title": {
         "text": "Filtered Temperature vs Humidity"
        },
        "xaxis": {
         "anchor": "y",
         "domain": [
          0,
          1
         ],
         "title": {
          "text": "Temperature (°C)"
         }
        },
        "yaxis": {
         "anchor": "x",
         "domain": [
          0,
          1
         ],
         "title": {
          "text": "Humidity (%)"
         }
        }
       }
      }
     },
     "metadata": {},
     "output_type": "display_data"
    }
   ],
   "source": [
    "# 🧹 filter out possible outliers\n",
    "df_filtered = df[(df[\"temperature\"] > 22.85) & (df[\"temperature\"] < 23.65)]\n",
    "print(\"Before:\", df.shape, \"After filtering:\", df_filtered.shape)\n",
    "\n",
    "# retrain model\n",
    "Xf = df_filtered[[\"temperature\"]].values\n",
    "yf = df_filtered[\"humidity\"].values\n",
    "model_f = LinearRegression().fit(Xf, yf)\n",
    "\n",
    "slope_f = model_f.coef_[0]\n",
    "intercept_f = model_f.intercept_\n",
    "r2_f = model_f.score(Xf, yf)\n",
    "\n",
    "print(f\"Filtered Equation: humidity = {slope_f:.4f}*temperature + {intercept_f:.4f}\")\n",
    "print(f\"Filtered R^2: {r2_f:.4f}\")\n",
    "\n",
    "# predictions for trend line\n",
    "temp_test_f = np.linspace(df_filtered[\"temperature\"].min(),\n",
    "                          df_filtered[\"temperature\"].max(), 100).reshape(-1,1)\n",
    "humidity_pred_f = model_f.predict(temp_test_f)\n",
    "\n",
    "# plot\n",
    "fig = px.scatter(df_filtered, x=\"temperature\", y=\"humidity\",\n",
    "                 title=\"Filtered Temperature vs Humidity\",\n",
    "                 labels={\"temperature\":\"Temperature (°C)\", \"humidity\":\"Humidity (%)\"})\n",
    "fig.add_scatter(x=temp_test_f.ravel(), y=humidity_pred_f,\n",
    "                mode=\"lines\", name=\"Regression line (filtered)\")\n",
    "fig.show()"
   ]
  },
  {
   "cell_type": "code",
   "execution_count": 7,
   "id": "20db08e3",
   "metadata": {},
   "outputs": [
    {
     "name": "stdout",
     "output_type": "stream",
     "text": [
      "Before: (170, 3) After filtering: (101, 3)\n",
      "Tighter Filter Equation: humidity = -1.2659*temperature + 88.2723\n",
      "Tighter Filter R^2: 0.1847\n"
     ]
    },
    {
     "data": {
      "application/vnd.plotly.v1+json": {
       "config": {
        "plotlyServerURL": "https://plot.ly"
       },
       "data": [
        {
         "hovertemplate": "Temperature (°C)=%{x}<br>Humidity (%)=%{y}<extra></extra>",
         "legendgroup": "",
         "marker": {
          "color": "#636efa",
          "symbol": "circle"
         },
         "mode": "markers",
         "name": "",
         "orientation": "v",
         "showlegend": false,
         "type": "scatter",
         "x": {
          "bdata": "AAAAQDOzN0AAAABAM7M3QAAAAEAzszdAAAAAQDOzN0AAAACgmZk3QAAAAKCZmTdAAAAAQDOzN0AAAACgmZk3QAAAAKCZGTdAAAAAoJkZN0AAAACgmRk3QAAAAKCZGTdAAAAAoJkZN0AAAACgmRk3QAAAAAAAADdAAAAAAAAAN0AAAACgmRk3QAAAAKCZGTdAAAAAAAAAN0AAAAAAAAA3QAAAAAAAADdAAAAAAAAAN0AAAAAAAAA3QAAAAAAAADdAAAAAAAAAN0AAAAAAAAA3QAAAAGBm5jZAAAAAYGbmNkAAAAAAAAA3QAAAAAAAADdAAAAAAAAAN0AAAAAAAAA3QAAAAGBm5jZAAAAAYGbmNkAAAABgZuY2QAAAAGBm5jZAAAAAYGbmNkAAAABgZuY2QAAAAGBm5jZAAAAAYGbmNkAAAABgZuY2QAAAAAAAADdAAAAAAAAAN0AAAABgZuY2QAAAAAAAADdAAAAAAAAAN0AAAAAAAAA3QAAAAKCZGTdAAAAAoJkZN0AAAACgmRk3QAAAAKCZGTdAAAAAoJkZN0AAAABAMzM3QAAAAEAzMzdAAAAAoJkZN0AAAACgmRk3QAAAAEAzMzdAAAAAQDMzN0AAAABAMzM3QAAAAEAzMzdAAAAAQDMzN0AAAABAMzM3QAAAAEAzMzdAAAAAQDMzN0AAAABAMzM3QAAAAEAzMzdAAAAAQDMzN0AAAABAMzM3QAAAAAAAADdAAAAAAAAAN0AAAAAAAAA3QAAAAAAAADdAAAAAAAAAN0AAAAAAAAA3QAAAAAAAADdAAAAAAAAAN0AAAAAAAAA3QAAAAAAAADdAAAAAYGbmNkAAAABgZuY2QAAAAAAAADdAAAAAAAAAN0AAAAAAAAA3QAAAAGBm5jZAAAAAYGbmNkAAAABgZuY2QAAAAGBm5jZAAAAAYGbmNkAAAABgZuY2QAAAAGBm5jZAAAAAYGbmNkAAAABgZuY2QAAAAGBm5jZAAAAAYGbmNkAAAABgZuY2QAAAAMDMzDZAAAAAwMzMNkAAAADAzMw2QAAAAMDMzDZAAAAAYGbmNkAAAABgZuY2QA==",
          "dtype": "f8"
         },
         "xaxis": "x",
         "y": {
          "bdata": "AAAAAABATUAAAAAAAABNQAAAAMDMDE1AAAAAQDMzTUAAAABAMzNNQAAAAGBmJk1AAAAAYGYmTUAAAACgmRlNQAAAAAAAAE1AAAAAAAAATUAAAADAzAxNQAAAAKCZGU1AAAAAwMwMTUAAAACgmRlNQAAAAKCZGU1AAAAAYGYmTUAAAABgZiZNQAAAAKCZGU1AAAAAoJkZTUAAAABgZiZNQAAAAAAAQE1AAAAAQDMzTUAAAAAAAEBNQAAAAMDMTE1AAAAAoJlZTUAAAADAzExNQAAAAMDMTE1AAAAAAABATUAAAAAAAEBNQAAAAMDMTE1AAAAAoJlZTUAAAAAAAEBNQAAAAAAAQE1AAAAAwMxMTUAAAACgmVlNQAAAAGBmZk1AAAAAQDNzTUAAAABgZmZNQAAAAMDMjE1AAAAAoJmZTUAAAABAM/NNQAAAAEAz801AAAAAwMzMTUAAAADAzMxNQAAAAEAz801AAAAAwMzMTUAAAABgZuZNQAAAAGBm5k1AAAAAYGamTUAAAACgmZlNQAAAAMDMjE1AAAAAoJmZTUAAAACgmZlNQAAAAKCZ2U1AAAAAoJnZTUAAAAAAAMBNQAAAAAAAwE1AAAAAwMzMTUAAAABgZuZNQAAAAMDMzE1AAAAAYGbmTUAAAADAzIxNQAAAAEAzc01AAAAAoJlZTUAAAABAM/NNQAAAAKCZmU1AAAAAAACATUAAAABAM3NNQAAAAMDMjE1AAAAAAACATUAAAADAzIxNQAAAAAAAgE1AAAAAoJmZTUAAAABgZqZNQAAAAKCZmU1AAAAAYGamTUAAAAAAAMBNQAAAAKCZ2U1AAAAAoJnZTUAAAABAM7NNQAAAAEAzs01AAAAAYGamTUAAAACgmZlNQAAAAKCZmU1AAAAAwMyMTUAAAABgZuZNQAAAAEAz801AAAAAAAAATkAAAABAM/NNQAAAAKCZ2U1AAAAAQDPzTUAAAABgZuZNQAAAAMDMzE1AAAAAAADATUAAAADAzMxNQAAAAMDMzE1AAAAAAAAATkAAAABAM/NNQAAAAEAz801AAAAAQDPzTUAAAAAAAABOQA==",
          "dtype": "f8"
         },
         "yaxis": "y"
        },
        {
         "mode": "lines",
         "name": "Regression line (tighter filter)",
         "type": "scatter",
         "x": {
          "bdata": "AAAAwMzMNkAxb2eIIM82QGLezlB00TZAk002GcjTNkDFvJ3hG9Y2QPYrBapv2DZAJ5tscsPaNkBYCtQ6F902QIl5OwNr3zZAuuiiy77hNkDrVwqUEuQ2QBzHcVxm5jZATjbZJLroNkB/pUDtDes2QLAUqLVh7TZA4YMPfrXvNkAS83ZGCfI2QENi3g5d9DZAdNFF17D2NkClQK2fBPk2QNevFGhY+zZACB98MKz9NkA5juP4//82QGr9SsFTAjdAm2yyiacEN0DM2xlS+wY3QP1KgRpPCTdAL7ro4qILN0BgKVCr9g03QJGYt3NKEDdAwgcfPJ4SN0DzdoYE8hQ3QCTm7cxFFzdAVVVVlZkZN0CGxLxd7Rs3QLgzJCZBHjdA6aKL7pQgN0AaEvO26CI3QEuBWn88JTdAfPDBR5AnN0CtXykQ5Ck3QN7OkNg3LDdAED74oIsuN0BBrV9p3zA3QHIcxzEzMzdAo4su+oY1N0DU+pXC2jc3QAVq/YouOjdANtlkU4I8N0BnSMwb1j43QJm3M+QpQTdAyiabrH1DN0D7lQJ10UU3QCwFaj0lSDdAXXTRBXlKN0CO4zjOzEw3QL9SoJYgTzdA8MEHX3RRN0AiMW8nyFM3QFOg1u8bVjdAhA8+uG9YN0C1fqWAw1o3QObtDEkXXTdAF110EWtfN0BIzNvZvmE3QHo7Q6ISZDdAq6qqamZmN0DcGRIzumg3QA2JefsNazdAPvjgw2FtN0BvZ0iMtW83QKDWr1QJcjdA0UUXHV10N0ADtX7lsHY3QDQk5q0EeTdAZZNNdlh7N0CWArU+rH03QMdxHAcAgDdA+OCDz1OCN0ApUOuXp4Q3QFq/UmD7hjdAjC66KE+JN0C9nSHxoos3QO4Mibn2jTdAH3zwgUqQN0BQ61dKnpI3QIFavxLylDdAsskm20WXN0DkOI6jmZk3QBWo9WvtmzdARhddNEGeN0B3hsT8lKA3QKj1K8XoojdA2WSTjTylN0AK1PpVkKc3QDtDYh7kqTdAbbLJ5jesN0CeITGvi643QM+QmHffsDdAAAAAQDOzN0A=",
          "dtype": "f8"
         },
         "y": {
          "bdata": "Y6eF/oy0TUBGYjfnE7NNQCgd6c+asU1ADNiauCGwTUDukkyhqK5NQNBN/okvrU1AswiwcrarTUCWw2FbPapNQHl+E0TEqE1AXDnFLEunTUA+9HYV0qVNQCGvKP5YpE1ABGra5t+iTUDmJIzPZqFNQMnfPbjtn01ArJrvoHSeTUCOVaGJ+5xNQHIQU3KCm01AVMsEWwmaTUA3hrZDkJhNQBlBaCwXl01A/PsZFZ6VTUDftsv9JJRNQMJxfearkk1ApCwvzzKRTUCI5+C3uY9NQGqikqBAjk1ATF1EiceMTUAvGPZxTotNQBLTp1rViU1A9I1ZQ1yITUDYSAss44ZNQLoDvRRqhU1Anb5u/fCDTUCAeSDmd4JNQGI00s7+gE1ARe+Dt4V/TUAoqjWgDH5NQApl54iTfE1A7h+ZcRp7TUDQ2kpaoXlNQLOV/EIoeE1AlVCuK692TUB4C2AUNnVNQFrGEf28c01APoHD5UNyTUAgPHXOynBNQAP3JrdRb01A5rHYn9htTUDIbIqIX2xNQKsnPHHmak1AjuLtWW1pTUBwnZ9C9GdNQFRYUSt7Zk1ANhMDFAJlTUAZzrT8iGNNQPyIZuUPYk1A3kMYzpZgTUDA/sm2HV9NQKS5e5+kXU1AhnQtiCtcTUBpL99wslpNQEzqkFk5WU1ALqVCQsBXTUASYPQqR1ZNQPQaphPOVE1A1tVX/FRTTUC6kAnl21FNQJxLu81iUE1AfwZttulOTUBiwR6fcE1NQER80If3S01AKDeCcH5KTUAK8jNZBUlNQOys5UGMR01Az2eXKhNGTUCyIkkTmkRNQJTd+vsgQ01AeJis5KdBTUBaU17NLkBNQD0OELa1Pk1AIMnBnjw9TUAChHOHwztNQOU+JXBKOk1AyPnWWNE4TUCqtIhBWDdNQI5vOirfNU1AcCrsEmY0TUBS5Z377DJNQDWgT+RzMU1AGFsBzfovTUD7FbO1gS5NQN7QZJ4ILU1AwIsWh48rTUCjRshvFipNQIYBelidKE1AaLwrQSQnTUBLd90pqyVNQC4yjxIyJE1AEO1A+7giTUA=",
          "dtype": "f8"
         }
        }
       ],
       "layout": {
        "legend": {
         "tracegroupgap": 0
        },
        "template": {
         "data": {
          "bar": [
           {
            "error_x": {
             "color": "#2a3f5f"
            },
            "error_y": {
             "color": "#2a3f5f"
            },
            "marker": {
             "line": {
              "color": "#E5ECF6",
              "width": 0.5
             },
             "pattern": {
              "fillmode": "overlay",
              "size": 10,
              "solidity": 0.2
             }
            },
            "type": "bar"
           }
          ],
          "barpolar": [
           {
            "marker": {
             "line": {
              "color": "#E5ECF6",
              "width": 0.5
             },
             "pattern": {
              "fillmode": "overlay",
              "size": 10,
              "solidity": 0.2
             }
            },
            "type": "barpolar"
           }
          ],
          "carpet": [
           {
            "aaxis": {
             "endlinecolor": "#2a3f5f",
             "gridcolor": "white",
             "linecolor": "white",
             "minorgridcolor": "white",
             "startlinecolor": "#2a3f5f"
            },
            "baxis": {
             "endlinecolor": "#2a3f5f",
             "gridcolor": "white",
             "linecolor": "white",
             "minorgridcolor": "white",
             "startlinecolor": "#2a3f5f"
            },
            "type": "carpet"
           }
          ],
          "choropleth": [
           {
            "colorbar": {
             "outlinewidth": 0,
             "ticks": ""
            },
            "type": "choropleth"
           }
          ],
          "contour": [
           {
            "colorbar": {
             "outlinewidth": 0,
             "ticks": ""
            },
            "colorscale": [
             [
              0,
              "#0d0887"
             ],
             [
              0.1111111111111111,
              "#46039f"
             ],
             [
              0.2222222222222222,
              "#7201a8"
             ],
             [
              0.3333333333333333,
              "#9c179e"
             ],
             [
              0.4444444444444444,
              "#bd3786"
             ],
             [
              0.5555555555555556,
              "#d8576b"
             ],
             [
              0.6666666666666666,
              "#ed7953"
             ],
             [
              0.7777777777777778,
              "#fb9f3a"
             ],
             [
              0.8888888888888888,
              "#fdca26"
             ],
             [
              1,
              "#f0f921"
             ]
            ],
            "type": "contour"
           }
          ],
          "contourcarpet": [
           {
            "colorbar": {
             "outlinewidth": 0,
             "ticks": ""
            },
            "type": "contourcarpet"
           }
          ],
          "heatmap": [
           {
            "colorbar": {
             "outlinewidth": 0,
             "ticks": ""
            },
            "colorscale": [
             [
              0,
              "#0d0887"
             ],
             [
              0.1111111111111111,
              "#46039f"
             ],
             [
              0.2222222222222222,
              "#7201a8"
             ],
             [
              0.3333333333333333,
              "#9c179e"
             ],
             [
              0.4444444444444444,
              "#bd3786"
             ],
             [
              0.5555555555555556,
              "#d8576b"
             ],
             [
              0.6666666666666666,
              "#ed7953"
             ],
             [
              0.7777777777777778,
              "#fb9f3a"
             ],
             [
              0.8888888888888888,
              "#fdca26"
             ],
             [
              1,
              "#f0f921"
             ]
            ],
            "type": "heatmap"
           }
          ],
          "histogram": [
           {
            "marker": {
             "pattern": {
              "fillmode": "overlay",
              "size": 10,
              "solidity": 0.2
             }
            },
            "type": "histogram"
           }
          ],
          "histogram2d": [
           {
            "colorbar": {
             "outlinewidth": 0,
             "ticks": ""
            },
            "colorscale": [
             [
              0,
              "#0d0887"
             ],
             [
              0.1111111111111111,
              "#46039f"
             ],
             [
              0.2222222222222222,
              "#7201a8"
             ],
             [
              0.3333333333333333,
              "#9c179e"
             ],
             [
              0.4444444444444444,
              "#bd3786"
             ],
             [
              0.5555555555555556,
              "#d8576b"
             ],
             [
              0.6666666666666666,
              "#ed7953"
             ],
             [
              0.7777777777777778,
              "#fb9f3a"
             ],
             [
              0.8888888888888888,
              "#fdca26"
             ],
             [
              1,
              "#f0f921"
             ]
            ],
            "type": "histogram2d"
           }
          ],
          "histogram2dcontour": [
           {
            "colorbar": {
             "outlinewidth": 0,
             "ticks": ""
            },
            "colorscale": [
             [
              0,
              "#0d0887"
             ],
             [
              0.1111111111111111,
              "#46039f"
             ],
             [
              0.2222222222222222,
              "#7201a8"
             ],
             [
              0.3333333333333333,
              "#9c179e"
             ],
             [
              0.4444444444444444,
              "#bd3786"
             ],
             [
              0.5555555555555556,
              "#d8576b"
             ],
             [
              0.6666666666666666,
              "#ed7953"
             ],
             [
              0.7777777777777778,
              "#fb9f3a"
             ],
             [
              0.8888888888888888,
              "#fdca26"
             ],
             [
              1,
              "#f0f921"
             ]
            ],
            "type": "histogram2dcontour"
           }
          ],
          "mesh3d": [
           {
            "colorbar": {
             "outlinewidth": 0,
             "ticks": ""
            },
            "type": "mesh3d"
           }
          ],
          "parcoords": [
           {
            "line": {
             "colorbar": {
              "outlinewidth": 0,
              "ticks": ""
             }
            },
            "type": "parcoords"
           }
          ],
          "pie": [
           {
            "automargin": true,
            "type": "pie"
           }
          ],
          "scatter": [
           {
            "fillpattern": {
             "fillmode": "overlay",
             "size": 10,
             "solidity": 0.2
            },
            "type": "scatter"
           }
          ],
          "scatter3d": [
           {
            "line": {
             "colorbar": {
              "outlinewidth": 0,
              "ticks": ""
             }
            },
            "marker": {
             "colorbar": {
              "outlinewidth": 0,
              "ticks": ""
             }
            },
            "type": "scatter3d"
           }
          ],
          "scattercarpet": [
           {
            "marker": {
             "colorbar": {
              "outlinewidth": 0,
              "ticks": ""
             }
            },
            "type": "scattercarpet"
           }
          ],
          "scattergeo": [
           {
            "marker": {
             "colorbar": {
              "outlinewidth": 0,
              "ticks": ""
             }
            },
            "type": "scattergeo"
           }
          ],
          "scattergl": [
           {
            "marker": {
             "colorbar": {
              "outlinewidth": 0,
              "ticks": ""
             }
            },
            "type": "scattergl"
           }
          ],
          "scattermap": [
           {
            "marker": {
             "colorbar": {
              "outlinewidth": 0,
              "ticks": ""
             }
            },
            "type": "scattermap"
           }
          ],
          "scattermapbox": [
           {
            "marker": {
             "colorbar": {
              "outlinewidth": 0,
              "ticks": ""
             }
            },
            "type": "scattermapbox"
           }
          ],
          "scatterpolar": [
           {
            "marker": {
             "colorbar": {
              "outlinewidth": 0,
              "ticks": ""
             }
            },
            "type": "scatterpolar"
           }
          ],
          "scatterpolargl": [
           {
            "marker": {
             "colorbar": {
              "outlinewidth": 0,
              "ticks": ""
             }
            },
            "type": "scatterpolargl"
           }
          ],
          "scatterternary": [
           {
            "marker": {
             "colorbar": {
              "outlinewidth": 0,
              "ticks": ""
             }
            },
            "type": "scatterternary"
           }
          ],
          "surface": [
           {
            "colorbar": {
             "outlinewidth": 0,
             "ticks": ""
            },
            "colorscale": [
             [
              0,
              "#0d0887"
             ],
             [
              0.1111111111111111,
              "#46039f"
             ],
             [
              0.2222222222222222,
              "#7201a8"
             ],
             [
              0.3333333333333333,
              "#9c179e"
             ],
             [
              0.4444444444444444,
              "#bd3786"
             ],
             [
              0.5555555555555556,
              "#d8576b"
             ],
             [
              0.6666666666666666,
              "#ed7953"
             ],
             [
              0.7777777777777778,
              "#fb9f3a"
             ],
             [
              0.8888888888888888,
              "#fdca26"
             ],
             [
              1,
              "#f0f921"
             ]
            ],
            "type": "surface"
           }
          ],
          "table": [
           {
            "cells": {
             "fill": {
              "color": "#EBF0F8"
             },
             "line": {
              "color": "white"
             }
            },
            "header": {
             "fill": {
              "color": "#C8D4E3"
             },
             "line": {
              "color": "white"
             }
            },
            "type": "table"
           }
          ]
         },
         "layout": {
          "annotationdefaults": {
           "arrowcolor": "#2a3f5f",
           "arrowhead": 0,
           "arrowwidth": 1
          },
          "autotypenumbers": "strict",
          "coloraxis": {
           "colorbar": {
            "outlinewidth": 0,
            "ticks": ""
           }
          },
          "colorscale": {
           "diverging": [
            [
             0,
             "#8e0152"
            ],
            [
             0.1,
             "#c51b7d"
            ],
            [
             0.2,
             "#de77ae"
            ],
            [
             0.3,
             "#f1b6da"
            ],
            [
             0.4,
             "#fde0ef"
            ],
            [
             0.5,
             "#f7f7f7"
            ],
            [
             0.6,
             "#e6f5d0"
            ],
            [
             0.7,
             "#b8e186"
            ],
            [
             0.8,
             "#7fbc41"
            ],
            [
             0.9,
             "#4d9221"
            ],
            [
             1,
             "#276419"
            ]
           ],
           "sequential": [
            [
             0,
             "#0d0887"
            ],
            [
             0.1111111111111111,
             "#46039f"
            ],
            [
             0.2222222222222222,
             "#7201a8"
            ],
            [
             0.3333333333333333,
             "#9c179e"
            ],
            [
             0.4444444444444444,
             "#bd3786"
            ],
            [
             0.5555555555555556,
             "#d8576b"
            ],
            [
             0.6666666666666666,
             "#ed7953"
            ],
            [
             0.7777777777777778,
             "#fb9f3a"
            ],
            [
             0.8888888888888888,
             "#fdca26"
            ],
            [
             1,
             "#f0f921"
            ]
           ],
           "sequentialminus": [
            [
             0,
             "#0d0887"
            ],
            [
             0.1111111111111111,
             "#46039f"
            ],
            [
             0.2222222222222222,
             "#7201a8"
            ],
            [
             0.3333333333333333,
             "#9c179e"
            ],
            [
             0.4444444444444444,
             "#bd3786"
            ],
            [
             0.5555555555555556,
             "#d8576b"
            ],
            [
             0.6666666666666666,
             "#ed7953"
            ],
            [
             0.7777777777777778,
             "#fb9f3a"
            ],
            [
             0.8888888888888888,
             "#fdca26"
            ],
            [
             1,
             "#f0f921"
            ]
           ]
          },
          "colorway": [
           "#636efa",
           "#EF553B",
           "#00cc96",
           "#ab63fa",
           "#FFA15A",
           "#19d3f3",
           "#FF6692",
           "#B6E880",
           "#FF97FF",
           "#FECB52"
          ],
          "font": {
           "color": "#2a3f5f"
          },
          "geo": {
           "bgcolor": "white",
           "lakecolor": "white",
           "landcolor": "#E5ECF6",
           "showlakes": true,
           "showland": true,
           "subunitcolor": "white"
          },
          "hoverlabel": {
           "align": "left"
          },
          "hovermode": "closest",
          "mapbox": {
           "style": "light"
          },
          "paper_bgcolor": "white",
          "plot_bgcolor": "#E5ECF6",
          "polar": {
           "angularaxis": {
            "gridcolor": "white",
            "linecolor": "white",
            "ticks": ""
           },
           "bgcolor": "#E5ECF6",
           "radialaxis": {
            "gridcolor": "white",
            "linecolor": "white",
            "ticks": ""
           }
          },
          "scene": {
           "xaxis": {
            "backgroundcolor": "#E5ECF6",
            "gridcolor": "white",
            "gridwidth": 2,
            "linecolor": "white",
            "showbackground": true,
            "ticks": "",
            "zerolinecolor": "white"
           },
           "yaxis": {
            "backgroundcolor": "#E5ECF6",
            "gridcolor": "white",
            "gridwidth": 2,
            "linecolor": "white",
            "showbackground": true,
            "ticks": "",
            "zerolinecolor": "white"
           },
           "zaxis": {
            "backgroundcolor": "#E5ECF6",
            "gridcolor": "white",
            "gridwidth": 2,
            "linecolor": "white",
            "showbackground": true,
            "ticks": "",
            "zerolinecolor": "white"
           }
          },
          "shapedefaults": {
           "line": {
            "color": "#2a3f5f"
           }
          },
          "ternary": {
           "aaxis": {
            "gridcolor": "white",
            "linecolor": "white",
            "ticks": ""
           },
           "baxis": {
            "gridcolor": "white",
            "linecolor": "white",
            "ticks": ""
           },
           "bgcolor": "#E5ECF6",
           "caxis": {
            "gridcolor": "white",
            "linecolor": "white",
            "ticks": ""
           }
          },
          "title": {
           "x": 0.05
          },
          "xaxis": {
           "automargin": true,
           "gridcolor": "white",
           "linecolor": "white",
           "ticks": "",
           "title": {
            "standoff": 15
           },
           "zerolinecolor": "white",
           "zerolinewidth": 2
          },
          "yaxis": {
           "automargin": true,
           "gridcolor": "white",
           "linecolor": "white",
           "ticks": "",
           "title": {
            "standoff": 15
           },
           "zerolinecolor": "white",
           "zerolinewidth": 2
          }
         }
        },
        "title": {
         "text": "Temperature vs Humidity (tighter filtered)"
        },
        "xaxis": {
         "anchor": "y",
         "domain": [
          0,
          1
         ],
         "title": {
          "text": "Temperature (°C)"
         }
        },
        "yaxis": {
         "anchor": "x",
         "domain": [
          0,
          1
         ],
         "title": {
          "text": "Humidity (%)"
         }
        }
       }
      }
     },
     "metadata": {},
     "output_type": "display_data"
    }
   ],
   "source": [
    "# 🧹 filter to remove more extremes: keep humidity only between 58% and 60%\n",
    "df_filtered2 = df[(df[\"humidity\"] >= 58) & (df[\"humidity\"] <= 60)]\n",
    "print(\"Before:\", df.shape, \"After filtering:\", df_filtered2.shape)\n",
    "\n",
    "# retrain model\n",
    "X2 = df_filtered2[[\"temperature\"]].values\n",
    "y2 = df_filtered2[\"humidity\"].values\n",
    "model2 = LinearRegression().fit(X2, y2)\n",
    "\n",
    "slope2 = model2.coef_[0]\n",
    "intercept2 = model2.intercept_\n",
    "r2_2 = model2.score(X2, y2)\n",
    "\n",
    "print(f\"Tighter Filter Equation: humidity = {slope2:.4f}*temperature + {intercept2:.4f}\")\n",
    "print(f\"Tighter Filter R^2: {r2_2:.4f}\")\n",
    "\n",
    "# predictions\n",
    "temp_test2 = np.linspace(df_filtered2[\"temperature\"].min(),\n",
    "                         df_filtered2[\"temperature\"].max(), 100).reshape(-1,1)\n",
    "humidity_pred2 = model2.predict(temp_test2)\n",
    "\n",
    "# plot\n",
    "fig = px.scatter(df_filtered2, x=\"temperature\", y=\"humidity\",\n",
    "                 title=\"Temperature vs Humidity (tighter filtered)\",\n",
    "                 labels={\"temperature\":\"Temperature (°C)\", \"humidity\":\"Humidity (%)\"})\n",
    "fig.add_scatter(x=temp_test2.ravel(), y=humidity_pred2,\n",
    "                mode=\"lines\", name=\"Regression line (tighter filter)\")\n",
    "fig.show()"
   ]
  }
 ],
 "metadata": {
  "kernelspec": {
   "display_name": "venv",
   "language": "python",
   "name": "venv"
  },
  "language_info": {
   "codemirror_mode": {
    "name": "ipython",
    "version": 3
   },
   "file_extension": ".py",
   "mimetype": "text/x-python",
   "name": "python",
   "nbconvert_exporter": "python",
   "pygments_lexer": "ipython3",
   "version": "3.13.5"
  }
 },
 "nbformat": 4,
 "nbformat_minor": 5
}
